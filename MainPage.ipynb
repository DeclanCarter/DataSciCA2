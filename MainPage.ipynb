{
 "cells": [
  {
   "cell_type": "markdown",
   "metadata": {},
   "source": [
    "<h1>Data Preprocessing and Machine Learning Tutorial using Jupyter Notebook</h1>"
   ]
  },
  {
   "cell_type": "markdown",
   "metadata": {},
   "source": [
    "<h2>Introduction</h2>\n",
    "\n",
    "<p>This tutorial aims to show how to start data preprocessing and implement machine learning using a jupyter notebook. "
   ]
  },
  {
   "cell_type": "markdown",
   "metadata": {},
   "source": [
    "<h2>Setting up</h2>\n",
    "First python and jupyter notebook must be installed. It is recommanded to use linux but windows works fine as well.\n",
    "\n",
    "Install python for Linux <a href=\"https://docs.aws.amazon.com/cli/latest/userguide/install-linux-python.html\">tutorial</a>\n",
    "\n",
    "\n",
    "Install python for Windows <a href=\"https://www.ics.uci.edu/~pattis/common/handouts/pythoneclipsejava/python.html\">tutorial</a>\n",
    "\n",
    "\n",
    "Install Jupyter Notebook for Linux <a href=\"https://www.digitalocean.com/community/tutorials/how-to-set-up-jupyter-notebook-with-python-3-on-ubuntu-18-04\">tutorial</a>\n",
    "\n",
    "Install Jupyter Notebook for Windows <a href=\"http://www.calvin.edu/~sld33/InstallPython.html\">tutorial</a>\n",
    "\n"
   ]
  },
  {
   "cell_type": "markdown",
   "metadata": {},
   "source": [
    "<h2> What is Data Preprocessing?</h2>\n",
    "Data preprocessing is a data mining technique that involves transforming raw data into an understandable format. Most data in the real world is often incomplete, inconsistent, and/or lacking in certain behaviors or trends, and is likely to contain many errors. Data preprocessing is a proven method of resolving such issues. That is how data preprocessing is defined in this <a href=\"https://hackernoon.com/what-steps-should-one-take-while-doing-data-preprocessing-502c993e1caa\"> hackernoon article </a>\n",
    "\n",
    "\n",
    "<h3>Steps in Data Preprocessing</h3>\n",
    "\n",
    "Step 1 : Importing Libraries\n",
    "\n",
    "Step 2 : Importing the Dataset\n",
    "\n",
    "Step 3 : Checking for missing data\n",
    "\n",
    "Step 4 : Splitting the data-set into Training and Test Set\n",
    "\n",
    "Step 5 : Feature Scaling\n"
   ]
  },
  {
   "cell_type": "markdown",
   "metadata": {},
   "source": [
    "<h2>Importing Libraries</h2>"
   ]
  },
  {
   "cell_type": "markdown",
   "metadata": {},
   "source": [
    "You must use these commands atleast once to install the libraries so they can be imported."
   ]
  },
  {
   "cell_type": "code",
   "execution_count": null,
   "metadata": {},
   "outputs": [],
   "source": [
    "!pip install numpy\n",
    "!pip install pandas\n",
    "!pip install matplotlib\n",
    "!pip install seaborn\n",
    "!pip install plotly\n",
    "!pip install sklearn"
   ]
  },
  {
   "cell_type": "markdown",
   "metadata": {},
   "source": [
    "Now to import the libraries so they can be used."
   ]
  },
  {
   "cell_type": "code",
   "execution_count": 4,
   "metadata": {},
   "outputs": [],
   "source": [
    "import numpy as np\n",
    "import pandas as pd\n",
    "import matplotlib.pyplot as plt\n",
    "import seaborn as sns\n",
    "import plotly\n",
    "import plotly.plotly as py\n",
    "import plotly.graph_objs as go\n",
    "from sklearn import linear_model\n",
    "from sklearn.model_selection import train_test_split\n",
    "from scipy.stats.stats import pearsonr \n",
    "import warnings\n",
    "warnings.filterwarnings('ignore')"
   ]
  },
  {
   "cell_type": "markdown",
   "metadata": {},
   "source": [
    "<h3>Numpy</h3>\n",
    "NumPy is the fundamental package for scientific computing with Python.\n",
    "\n",
    "<h3>Pandas</h3>\n",
    "Pandas is for data manipulation and analysis.\n",
    "\n",
    "<h3>Matplotlib</h3>\n",
    "Matplotlib is a Python 2D plotting library which produces publication quality figures in a variety of hard copy formats and interactive environments across platforms.\n",
    "\n",
    "<h3>Seaborn</h3>\n",
    "Seaborn is a Python data visualization library based on matplotlib. It provides a high-level interface for drawing attractive and informative statistical graphics."
   ]
  },
  {
   "cell_type": "markdown",
   "metadata": {},
   "source": [
    "<h2>Importing the Dataset</h2>"
   ]
  },
  {
   "cell_type": "code",
   "execution_count": 5,
   "metadata": {},
   "outputs": [],
   "source": [
    "dataset = pd.read_csv('Datasets/Emissions_By_Year.csv')"
   ]
  },
  {
   "cell_type": "code",
   "execution_count": 12,
   "metadata": {
    "scrolled": true
   },
   "outputs": [
    {
     "data": {
      "text/html": [
       "<div>\n",
       "<style scoped>\n",
       "    .dataframe tbody tr th:only-of-type {\n",
       "        vertical-align: middle;\n",
       "    }\n",
       "\n",
       "    .dataframe tbody tr th {\n",
       "        vertical-align: top;\n",
       "    }\n",
       "\n",
       "    .dataframe thead th {\n",
       "        text-align: right;\n",
       "    }\n",
       "</style>\n",
       "<table border=\"1\" class=\"dataframe\">\n",
       "  <thead>\n",
       "    <tr style=\"text-align: right;\">\n",
       "      <th></th>\n",
       "      <th>Unnamed: 0</th>\n",
       "      <th>1990</th>\n",
       "      <th>1991</th>\n",
       "      <th>1992</th>\n",
       "      <th>1993</th>\n",
       "      <th>1994</th>\n",
       "      <th>1995</th>\n",
       "      <th>1996</th>\n",
       "      <th>1997</th>\n",
       "      <th>1998</th>\n",
       "      <th>...</th>\n",
       "      <th>2006</th>\n",
       "      <th>2007</th>\n",
       "      <th>2008</th>\n",
       "      <th>2009</th>\n",
       "      <th>2010</th>\n",
       "      <th>2011</th>\n",
       "      <th>2012</th>\n",
       "      <th>2013</th>\n",
       "      <th>2014</th>\n",
       "      <th>2015</th>\n",
       "    </tr>\n",
       "  </thead>\n",
       "  <tbody>\n",
       "    <tr>\n",
       "      <th>0</th>\n",
       "      <td>EU</td>\n",
       "      <td>5716.363618</td>\n",
       "      <td>5614.246902</td>\n",
       "      <td>5442.687808</td>\n",
       "      <td>5346.861754</td>\n",
       "      <td>5327.973194</td>\n",
       "      <td>5381.359446</td>\n",
       "      <td>5494.518703</td>\n",
       "      <td>5398.601884</td>\n",
       "      <td>5360.346343</td>\n",
       "      <td>...</td>\n",
       "      <td>5338.327400</td>\n",
       "      <td>5293.764173</td>\n",
       "      <td>5179.481366</td>\n",
       "      <td>4803.585497</td>\n",
       "      <td>4909.517548</td>\n",
       "      <td>4758.664597</td>\n",
       "      <td>4693.239771</td>\n",
       "      <td>4598.845193</td>\n",
       "      <td>4423.738394</td>\n",
       "      <td>4451.812564</td>\n",
       "    </tr>\n",
       "    <tr>\n",
       "      <th>1</th>\n",
       "      <td>Austria</td>\n",
       "      <td>79.70019192</td>\n",
       "      <td>83.635426</td>\n",
       "      <td>77.013749</td>\n",
       "      <td>77.120123</td>\n",
       "      <td>77.699872</td>\n",
       "      <td>81.156933</td>\n",
       "      <td>84.513640</td>\n",
       "      <td>84.036589</td>\n",
       "      <td>83.385042</td>\n",
       "      <td>...</td>\n",
       "      <td>91.868496</td>\n",
       "      <td>89.270917</td>\n",
       "      <td>89.127913</td>\n",
       "      <td>82.161949</td>\n",
       "      <td>87.130046</td>\n",
       "      <td>84.888189</td>\n",
       "      <td>82.132485</td>\n",
       "      <td>82.146518</td>\n",
       "      <td>78.378903</td>\n",
       "      <td>81.000488</td>\n",
       "    </tr>\n",
       "    <tr>\n",
       "      <th>2</th>\n",
       "      <td>Belgium</td>\n",
       "      <td>148.7916296</td>\n",
       "      <td>147.997207</td>\n",
       "      <td>147.886025</td>\n",
       "      <td>146.881344</td>\n",
       "      <td>154.710942</td>\n",
       "      <td>157.267260</td>\n",
       "      <td>161.393677</td>\n",
       "      <td>153.143198</td>\n",
       "      <td>158.773249</td>\n",
       "      <td>...</td>\n",
       "      <td>146.277851</td>\n",
       "      <td>142.839348</td>\n",
       "      <td>143.154073</td>\n",
       "      <td>129.912567</td>\n",
       "      <td>136.642483</td>\n",
       "      <td>126.270029</td>\n",
       "      <td>123.113672</td>\n",
       "      <td>123.267066</td>\n",
       "      <td>118.149613</td>\n",
       "      <td>121.641894</td>\n",
       "    </tr>\n",
       "    <tr>\n",
       "      <th>3</th>\n",
       "      <td>Bulgaria</td>\n",
       "      <td>104.3729352</td>\n",
       "      <td>82.495723</td>\n",
       "      <td>78.279916</td>\n",
       "      <td>77.570320</td>\n",
       "      <td>73.785921</td>\n",
       "      <td>75.315561</td>\n",
       "      <td>75.177860</td>\n",
       "      <td>71.590812</td>\n",
       "      <td>67.475877</td>\n",
       "      <td>...</td>\n",
       "      <td>64.803832</td>\n",
       "      <td>68.696160</td>\n",
       "      <td>67.383784</td>\n",
       "      <td>58.203311</td>\n",
       "      <td>60.811327</td>\n",
       "      <td>66.130293</td>\n",
       "      <td>61.013377</td>\n",
       "      <td>55.812534</td>\n",
       "      <td>58.021721</td>\n",
       "      <td>62.021120</td>\n",
       "    </tr>\n",
       "    <tr>\n",
       "      <th>4</th>\n",
       "      <td>Croatia</td>\n",
       "      <td>31.65207719</td>\n",
       "      <td>24.464016</td>\n",
       "      <td>22.594299</td>\n",
       "      <td>22.846915</td>\n",
       "      <td>22.012017</td>\n",
       "      <td>22.556255</td>\n",
       "      <td>23.149193</td>\n",
       "      <td>24.401346</td>\n",
       "      <td>24.772157</td>\n",
       "      <td>...</td>\n",
       "      <td>29.870867</td>\n",
       "      <td>31.351110</td>\n",
       "      <td>30.205669</td>\n",
       "      <td>28.222112</td>\n",
       "      <td>27.625511</td>\n",
       "      <td>27.240935</td>\n",
       "      <td>25.453141</td>\n",
       "      <td>24.290347</td>\n",
       "      <td>23.418728</td>\n",
       "      <td>23.857803</td>\n",
       "    </tr>\n",
       "    <tr>\n",
       "      <th>5</th>\n",
       "      <td>Cyprus</td>\n",
       "      <td>6.361042968</td>\n",
       "      <td>6.995686</td>\n",
       "      <td>7.408277</td>\n",
       "      <td>7.578991</td>\n",
       "      <td>7.841882</td>\n",
       "      <td>7.856660</td>\n",
       "      <td>8.117842</td>\n",
       "      <td>8.234610</td>\n",
       "      <td>8.603574</td>\n",
       "      <td>...</td>\n",
       "      <td>10.428668</td>\n",
       "      <td>10.753020</td>\n",
       "      <td>10.966449</td>\n",
       "      <td>10.697872</td>\n",
       "      <td>10.417301</td>\n",
       "      <td>10.144035</td>\n",
       "      <td>9.607426</td>\n",
       "      <td>8.831174</td>\n",
       "      <td>9.206543</td>\n",
       "      <td>9.188771</td>\n",
       "    </tr>\n",
       "    <tr>\n",
       "      <th>6</th>\n",
       "      <td>Czech Republic</td>\n",
       "      <td>198.4770378</td>\n",
       "      <td>179.594358</td>\n",
       "      <td>172.885198</td>\n",
       "      <td>164.946525</td>\n",
       "      <td>157.169654</td>\n",
       "      <td>157.615607</td>\n",
       "      <td>159.593943</td>\n",
       "      <td>155.922967</td>\n",
       "      <td>149.936925</td>\n",
       "      <td>...</td>\n",
       "      <td>150.323537</td>\n",
       "      <td>151.796115</td>\n",
       "      <td>147.290178</td>\n",
       "      <td>138.825986</td>\n",
       "      <td>140.558693</td>\n",
       "      <td>138.820648</td>\n",
       "      <td>135.357597</td>\n",
       "      <td>131.421609</td>\n",
       "      <td>127.499071</td>\n",
       "      <td>128.820666</td>\n",
       "    </tr>\n",
       "    <tr>\n",
       "      <th>7</th>\n",
       "      <td>Denmark</td>\n",
       "      <td>72.10435727</td>\n",
       "      <td>82.659668</td>\n",
       "      <td>76.722383</td>\n",
       "      <td>79.022296</td>\n",
       "      <td>83.077968</td>\n",
       "      <td>80.123446</td>\n",
       "      <td>93.307672</td>\n",
       "      <td>83.812711</td>\n",
       "      <td>79.916882</td>\n",
       "      <td>...</td>\n",
       "      <td>76.661475</td>\n",
       "      <td>72.095532</td>\n",
       "      <td>68.452977</td>\n",
       "      <td>65.234394</td>\n",
       "      <td>65.642605</td>\n",
       "      <td>60.478962</td>\n",
       "      <td>55.656770</td>\n",
       "      <td>57.488708</td>\n",
       "      <td>53.508799</td>\n",
       "      <td>50.983620</td>\n",
       "    </tr>\n",
       "    <tr>\n",
       "      <th>8</th>\n",
       "      <td>Estonia</td>\n",
       "      <td>40.51040972</td>\n",
       "      <td>37.352561</td>\n",
       "      <td>27.290511</td>\n",
       "      <td>21.365639</td>\n",
       "      <td>22.062924</td>\n",
       "      <td>20.267321</td>\n",
       "      <td>20.966145</td>\n",
       "      <td>20.609830</td>\n",
       "      <td>19.000030</td>\n",
       "      <td>...</td>\n",
       "      <td>18.545405</td>\n",
       "      <td>22.328210</td>\n",
       "      <td>20.083086</td>\n",
       "      <td>16.777844</td>\n",
       "      <td>21.255803</td>\n",
       "      <td>21.285270</td>\n",
       "      <td>20.231245</td>\n",
       "      <td>21.943499</td>\n",
       "      <td>21.204451</td>\n",
       "      <td>18.114852</td>\n",
       "    </tr>\n",
       "    <tr>\n",
       "      <th>9</th>\n",
       "      <td>Finland</td>\n",
       "      <td>72.30693499</td>\n",
       "      <td>70.015021</td>\n",
       "      <td>68.468269</td>\n",
       "      <td>70.651314</td>\n",
       "      <td>76.194815</td>\n",
       "      <td>72.710021</td>\n",
       "      <td>78.564232</td>\n",
       "      <td>77.186085</td>\n",
       "      <td>73.539786</td>\n",
       "      <td>...</td>\n",
       "      <td>82.198104</td>\n",
       "      <td>80.867135</td>\n",
       "      <td>72.975161</td>\n",
       "      <td>69.021466</td>\n",
       "      <td>77.321492</td>\n",
       "      <td>69.679638</td>\n",
       "      <td>64.293888</td>\n",
       "      <td>65.161066</td>\n",
       "      <td>61.062802</td>\n",
       "      <td>57.538897</td>\n",
       "    </tr>\n",
       "  </tbody>\n",
       "</table>\n",
       "<p>10 rows × 27 columns</p>\n",
       "</div>"
      ],
      "text/plain": [
       "       Unnamed: 0         1990         1991         1992         1993  \\\n",
       "0              EU  5716.363618  5614.246902  5442.687808  5346.861754   \n",
       "1         Austria  79.70019192    83.635426    77.013749    77.120123   \n",
       "2         Belgium  148.7916296   147.997207   147.886025   146.881344   \n",
       "3        Bulgaria  104.3729352    82.495723    78.279916    77.570320   \n",
       "4         Croatia  31.65207719    24.464016    22.594299    22.846915   \n",
       "5          Cyprus  6.361042968     6.995686     7.408277     7.578991   \n",
       "6  Czech Republic  198.4770378   179.594358   172.885198   164.946525   \n",
       "7         Denmark  72.10435727    82.659668    76.722383    79.022296   \n",
       "8         Estonia  40.51040972    37.352561    27.290511    21.365639   \n",
       "9         Finland  72.30693499    70.015021    68.468269    70.651314   \n",
       "\n",
       "          1994         1995         1996         1997         1998  ...  \\\n",
       "0  5327.973194  5381.359446  5494.518703  5398.601884  5360.346343  ...   \n",
       "1    77.699872    81.156933    84.513640    84.036589    83.385042  ...   \n",
       "2   154.710942   157.267260   161.393677   153.143198   158.773249  ...   \n",
       "3    73.785921    75.315561    75.177860    71.590812    67.475877  ...   \n",
       "4    22.012017    22.556255    23.149193    24.401346    24.772157  ...   \n",
       "5     7.841882     7.856660     8.117842     8.234610     8.603574  ...   \n",
       "6   157.169654   157.615607   159.593943   155.922967   149.936925  ...   \n",
       "7    83.077968    80.123446    93.307672    83.812711    79.916882  ...   \n",
       "8    22.062924    20.267321    20.966145    20.609830    19.000030  ...   \n",
       "9    76.194815    72.710021    78.564232    77.186085    73.539786  ...   \n",
       "\n",
       "          2006         2007         2008         2009         2010  \\\n",
       "0  5338.327400  5293.764173  5179.481366  4803.585497  4909.517548   \n",
       "1    91.868496    89.270917    89.127913    82.161949    87.130046   \n",
       "2   146.277851   142.839348   143.154073   129.912567   136.642483   \n",
       "3    64.803832    68.696160    67.383784    58.203311    60.811327   \n",
       "4    29.870867    31.351110    30.205669    28.222112    27.625511   \n",
       "5    10.428668    10.753020    10.966449    10.697872    10.417301   \n",
       "6   150.323537   151.796115   147.290178   138.825986   140.558693   \n",
       "7    76.661475    72.095532    68.452977    65.234394    65.642605   \n",
       "8    18.545405    22.328210    20.083086    16.777844    21.255803   \n",
       "9    82.198104    80.867135    72.975161    69.021466    77.321492   \n",
       "\n",
       "          2011         2012         2013         2014         2015  \n",
       "0  4758.664597  4693.239771  4598.845193  4423.738394  4451.812564  \n",
       "1    84.888189    82.132485    82.146518    78.378903    81.000488  \n",
       "2   126.270029   123.113672   123.267066   118.149613   121.641894  \n",
       "3    66.130293    61.013377    55.812534    58.021721    62.021120  \n",
       "4    27.240935    25.453141    24.290347    23.418728    23.857803  \n",
       "5    10.144035     9.607426     8.831174     9.206543     9.188771  \n",
       "6   138.820648   135.357597   131.421609   127.499071   128.820666  \n",
       "7    60.478962    55.656770    57.488708    53.508799    50.983620  \n",
       "8    21.285270    20.231245    21.943499    21.204451    18.114852  \n",
       "9    69.679638    64.293888    65.161066    61.062802    57.538897  \n",
       "\n",
       "[10 rows x 27 columns]"
      ]
     },
     "execution_count": 12,
     "metadata": {},
     "output_type": "execute_result"
    }
   ],
   "source": [
    "dataset.head(10)"
   ]
  },
  {
   "cell_type": "markdown",
   "metadata": {},
   "source": [
    "This is the dataset being used for this tutorial. It is how much greenhouse gases each country in the european union produces in million tonnes. "
   ]
  },
  {
   "cell_type": "markdown",
   "metadata": {},
   "source": [
    "<h2>Checking for missing data</h2>"
   ]
  },
  {
   "cell_type": "code",
   "execution_count": 14,
   "metadata": {},
   "outputs": [
    {
     "data": {
      "text/plain": [
       "0     5614.246902\n",
       "1       83.635426\n",
       "2      147.997207\n",
       "3       82.495723\n",
       "4       24.464016\n",
       "5        6.995686\n",
       "6      179.594358\n",
       "7       82.659668\n",
       "8       37.352561\n",
       "9       70.015021\n",
       "10     581.872241\n",
       "11    1215.674633\n",
       "12     105.305850\n",
       "13      87.572156\n",
       "14      57.885570\n",
       "15     526.768490\n",
       "16      24.518539\n",
       "17      50.470342\n",
       "18      13.792129\n",
       "19       2.634106\n",
       "20     234.175737\n",
       "21     456.719535\n",
       "22      62.933917\n",
       "23     203.748718\n",
       "24      64.845640\n",
       "25      17.313691\n",
       "26     301.548394\n",
       "27      72.849750\n",
       "28     818.407796\n",
       "29            NaN\n",
       "30            NaN\n",
       "Name: 1991, dtype: float64"
      ]
     },
     "execution_count": 14,
     "metadata": {},
     "output_type": "execute_result"
    }
   ],
   "source": [
    "dataset[\"1991\"]"
   ]
  },
  {
   "cell_type": "markdown",
   "metadata": {},
   "source": [
    "Having a look at the third column in the dataset we can see that there are two NaN values. This is due to a formatting error and not an error in the data. But their could be NaN, null or 0 values in your data, these are known as dirty data and its best to remove this data. "
   ]
  },
  {
   "cell_type": "markdown",
   "metadata": {},
   "source": [
    "If you have a large dataset and wish to check the entire set then running:\n",
    "\n",
    "dataset.isnull().sum()\n",
    "\n",
    "Will give you back all null values for each column."
   ]
  },
  {
   "cell_type": "code",
   "execution_count": 6,
   "metadata": {},
   "outputs": [],
   "source": [
    "def clean_data(dataset):\n",
    "    dataset = dataset[0:29]\n",
    "    dataset = dataset.set_index([\"Unnamed: 0\"])\n",
    "    dataset = dataset.replace(':', np.nan)\n",
    "    dataset = dataset.fillna(method='backfill')\n",
    "    return dataset\n",
    "\n",
    "dataset = clean_data(dataset)"
   ]
  },
  {
   "cell_type": "markdown",
   "metadata": {},
   "source": [
    "This is a simple method that takes all the columns in the dataset and replaces the nan with a colon. The fillna is a method used for filling holes in the dataset."
   ]
  },
  {
   "cell_type": "code",
   "execution_count": 16,
   "metadata": {},
   "outputs": [
    {
     "data": {
      "text/plain": [
       "Unnamed: 0\n",
       "EU                5614.246902\n",
       "Austria             83.635426\n",
       "Belgium            147.997207\n",
       "Bulgaria            82.495723\n",
       "Croatia             24.464016\n",
       "Cyprus               6.995686\n",
       "Czech Republic     179.594358\n",
       "Denmark             82.659668\n",
       "Estonia             37.352561\n",
       "Finland             70.015021\n",
       "France             581.872241\n",
       "Germany           1215.674633\n",
       "Greece             105.305850\n",
       "Hungary             87.572156\n",
       "Ireland             57.885570\n",
       "Italy              526.768490\n",
       "Latvia              24.518539\n",
       "Lithuania           50.470342\n",
       "Luxembourg          13.792129\n",
       "Malta                2.634106\n",
       "Netherlands        234.175737\n",
       "Poland             456.719535\n",
       "Portugal            62.933917\n",
       "Romania            203.748718\n",
       "Slovakia            64.845640\n",
       "Slovenia            17.313691\n",
       "Spain              301.548394\n",
       "Sweden              72.849750\n",
       "United Kingdom     818.407796\n",
       "Name: 1991, dtype: float64"
      ]
     },
     "execution_count": 16,
     "metadata": {},
     "output_type": "execute_result"
    }
   ],
   "source": [
    "dataset[\"1991\"]"
   ]
  },
  {
   "cell_type": "markdown",
   "metadata": {},
   "source": [
    "Running the same code again we can see all NaN values are removed."
   ]
  },
  {
   "cell_type": "markdown",
   "metadata": {},
   "source": [
    "<h2>Graphing the dataset</h2>\n",
    "For this graph we will gather a list of the datasets columns, follwed by slicing the row related to the EU out of the dataset and storing it's associated values in a list."
   ]
  },
  {
   "cell_type": "code",
   "execution_count": 7,
   "metadata": {},
   "outputs": [],
   "source": [
    "cols = list(dataset.columns)\n",
    "dataset = list(dataset.loc[\"EU\"])"
   ]
  },
  {
   "cell_type": "markdown",
   "metadata": {},
   "source": [
    "Using this data and the list of columns, we can construct our line graph through Plotly."
   ]
  },
  {
   "cell_type": "markdown",
   "metadata": {},
   "source": [
    "Going to https://plot.ly/, and creating an account it gives you access to their graphing library whic is a handy tool for graphing your dataset."
   ]
  },
  {
   "cell_type": "code",
   "execution_count": 8,
   "metadata": {},
   "outputs": [],
   "source": [
    "plotly.tools.set_credentials_file(username='Fakken', api_key='MkGYnSqRO2SXDRqrJYeb')"
   ]
  },
  {
   "cell_type": "markdown",
   "metadata": {},
   "source": [
    "You can create an api code in your account settings. This line validates your credentials and gives you access to the plotly tools."
   ]
  },
  {
   "cell_type": "code",
   "execution_count": 10,
   "metadata": {},
   "outputs": [
    {
     "name": "stdout",
     "output_type": "stream",
     "text": [
      "High five! You successfully sent some data to your account on plotly. View your plot in your browser at https://plot.ly/~Fakken/0 or inside your plot.ly account where it is named 'plot from API'\n"
     ]
    },
    {
     "data": {
      "text/html": [
       "<iframe id=\"igraph\" scrolling=\"no\" style=\"border:none;\" seamless=\"seamless\" src=\"https://plot.ly/~Fakken/0.embed\" height=\"525px\" width=\"100%\"></iframe>"
      ],
      "text/plain": [
       "<plotly.tools.PlotlyDisplay object>"
      ]
     },
     "execution_count": 10,
     "metadata": {},
     "output_type": "execute_result"
    }
   ],
   "source": [
    "trace1 = go.Scatter(x = cols,\n",
    "                    y = dataset,\n",
    "                    mode='lines',\n",
    "                    name = 'EU')\n",
    "\n",
    "data = [trace1]\n",
    "layout = go.Layout(title ='Yearly EU Emissions since 1990', \n",
    "                   yaxis=dict(title=\"Thousand' Tonnes of Oil Equivelent\"))\n",
    "fig = dict(data=data, layout=layout)\n",
    "py.iplot(fig, validate=True)"
   ]
  },
  {
   "cell_type": "markdown",
   "metadata": {},
   "source": [
    "<h2>Splitting the data-set into Training and Test Set for Machine Learning</h2>\n",
    "In any Machine Learning model we are going to split dataset into two different sets. The Training datasetet and the Test dataset. \n",
    "\n",
    "Using linear Regression model we will attempt to predict the future values for yearly emissions for the EU."
   ]
  },
  {
   "cell_type": "code",
   "execution_count": 11,
   "metadata": {},
   "outputs": [],
   "source": [
    " def clean_data(dataset):\n",
    "    dataset = dataset[0:29]\n",
    "    dataset = dataset.set_index([\"Unnamed: 0\"])\n",
    "    dataset = dataset.replace(':', np.nan)\n",
    "    dataset = dataset.fillna(method='backfill')\n",
    "    return dataset\n",
    "\n",
    "emissions_data = pd.read_csv('Datasets/Emissions_By_Year.csv')\n",
    "emissions_data = clean_data(emissions_data)\n",
    "renewable_data = pd.read_csv('Datasets/Renewable_Consumption-By_Country.csv')\n",
    "renewable_data = clean_data(renewable_data)"
   ]
  },
  {
   "cell_type": "markdown",
   "metadata": {},
   "source": [
    "To create a linear regression model we will need another dataset to train it agains, for this example we will use the renewable energy consumption by EU country.\n",
    "\n",
    "Importing the datasets and cleaning them we need to get subsections of each so that the years accurately match up. This is done by slicing the list of columns and then creating a new instance of the dataframe using these sliced columns"
   ]
  },
  {
   "cell_type": "code",
   "execution_count": 12,
   "metadata": {},
   "outputs": [],
   "source": [
    "emissions_cols = list(emissions_data.columns)[17:]\n",
    "renewable_cols = list(renewable_data.columns)[:-1]\n",
    "emissions_data = emissions_data[emissions_cols]\n",
    "renewable_data = renewable_data[renewable_cols]"
   ]
  },
  {
   "cell_type": "markdown",
   "metadata": {},
   "source": [
    "After creating the new dataframes we need to turn them into arrays and then reshape them so they can be utilised by the regression model. This is done by selecting the values from the dataset which returns an nd array, which we then reshape into a 2D Array."
   ]
  },
  {
   "cell_type": "code",
   "execution_count": 13,
   "metadata": {},
   "outputs": [],
   "source": [
    "emis_list = emissions_data.loc[\"EU\"].values\n",
    "emis_list = emis_list.reshape(-1, 1)\n",
    "rene_list = renewable_data.loc[\"EU\"].values\n",
    "rene_list = rene_list.astype(np.float)\n",
    "rene_list = rene_list.reshape(-1, 1)"
   ]
  },
  {
   "cell_type": "markdown",
   "metadata": {},
   "source": [
    "Following this we split our data into training and testing sets. We set the split_size to 0.40 because of our lack of data any less would only produce two to three test points."
   ]
  },
  {
   "cell_type": "code",
   "execution_count": 14,
   "metadata": {},
   "outputs": [],
   "source": [
    "X_train, X_test, y_train, y_test = train_test_split(rene_list, emis_list, test_size=0.40)"
   ]
  },
  {
   "cell_type": "markdown",
   "metadata": {},
   "source": [
    "Now we select the model, fit the training data and generate our predictions for our Y value, which in this case is Yearly Emissions"
   ]
  },
  {
   "cell_type": "code",
   "execution_count": 15,
   "metadata": {},
   "outputs": [],
   "source": [
    "model = linear_model.LinearRegression()\n",
    "model.fit(X_train, y_train)\n",
    "prediction = model.predict(X_test)"
   ]
  },
  {
   "cell_type": "markdown",
   "metadata": {},
   "source": [
    "We can now take our prediction and the testing data and graph the result to observe the predicted course."
   ]
  },
  {
   "cell_type": "code",
   "execution_count": 17,
   "metadata": {},
   "outputs": [
    {
     "data": {
      "text/html": [
       "<iframe id=\"igraph\" scrolling=\"no\" style=\"border:none;\" seamless=\"seamless\" src=\"https://plot.ly/~Fakken/2.embed\" height=\"525px\" width=\"100%\"></iframe>"
      ],
      "text/plain": [
       "<plotly.tools.PlotlyDisplay object>"
      ]
     },
     "execution_count": 17,
     "metadata": {},
     "output_type": "execute_result"
    }
   ],
   "source": [
    "trace1 = go.Scatter(\n",
    "                x = X_test,\n",
    "                y = y_test,\n",
    "                mode='markers',\n",
    "                name = '{} - Test Values'.format(\"EU\"))\n",
    "        \n",
    "trace2 = go.Scatter(\n",
    "                x = X_test,\n",
    "                y = prediction,\n",
    "                mode='lines',\n",
    "                name = '{} - Predictions'.format(\"EU\"))\n",
    "\n",
    "    \n",
    "data = [trace1, trace2]\n",
    "layout = go.Layout(title ='Predicted future Emissions - EU', \n",
    "                   xaxis=dict(title=\"Renewable Energy Consumption\"),\n",
    "                   yaxis=dict(title=\"Thousand' Tonnes of Oil Equivelent\"))\n",
    "\n",
    "fig = dict(data=data, layout=layout)\n",
    "py.iplot(fig, validate=True)"
   ]
  }
 ],
 "metadata": {
  "kernelspec": {
   "display_name": "Python 3",
   "language": "python",
   "name": "python3"
  },
  "language_info": {
   "codemirror_mode": {
    "name": "ipython",
    "version": 3
   },
   "file_extension": ".py",
   "mimetype": "text/x-python",
   "name": "python",
   "nbconvert_exporter": "python",
   "pygments_lexer": "ipython3",
   "version": "3.6.7"
  }
 },
 "nbformat": 4,
 "nbformat_minor": 2
}
